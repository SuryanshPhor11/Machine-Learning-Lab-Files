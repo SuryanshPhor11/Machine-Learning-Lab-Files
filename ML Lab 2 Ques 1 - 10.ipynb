{
 "cells": [
  {
   "cell_type": "markdown",
   "id": "57e59ae4-6bc9-465f-a442-420fbbf3e4e6",
   "metadata": {},
   "source": [
    "# Ques1  Create a NumPy array from a Python list and print its shape and datatype."
   ]
  },
  {
   "cell_type": "code",
   "execution_count": 1,
   "id": "9b0f8e47-181f-46b5-bd76-fb0c81532c02",
   "metadata": {},
   "outputs": [
    {
     "name": "stdout",
     "output_type": "stream",
     "text": [
      "Array: [1 2 3 4 5]\n",
      "Shape: (5,)\n",
      "Data type: int64\n"
     ]
    }
   ],
   "source": [
    "import numpy as np\n",
    "\n",
    "# Create a Python list\n",
    "py_list = [1, 2, 3, 4, 5]\n",
    "\n",
    "# Convert list to NumPy array\n",
    "arr = np.array(py_list)\n",
    "\n",
    "# Print the array\n",
    "print(\"Array:\", arr)\n",
    "\n",
    "# Print the shape of the array\n",
    "print(\"Shape:\", arr.shape)\n",
    "\n",
    "# Print the datatype of the array\n",
    "print(\"Data type:\", arr.dtype)\n"
   ]
  },
  {
   "cell_type": "markdown",
   "id": "bee5712a-8e2e-469e-840a-a127534d62f3",
   "metadata": {},
   "source": [
    "# Ques 2  Create a 2D array of size 4x4 filled with random numbers."
   ]
  },
  {
   "cell_type": "code",
   "execution_count": 7,
   "id": "583ec0d6-83d2-495f-bb88-9b62fd7c8bac",
   "metadata": {},
   "outputs": [
    {
     "name": "stdout",
     "output_type": "stream",
     "text": [
      "4x4 Random Array:\n",
      " [[0.96902356 0.90611699 0.28835019 0.80403477]\n",
      " [0.27568543 0.3126417  0.24437708 0.28490196]\n",
      " [0.56709815 0.35500029 0.10519755 0.6640446 ]\n",
      " [0.13276524 0.46745508 0.49176473 0.18340505]]\n",
      "Shape: (4, 4)\n",
      "Data type: float64\n"
     ]
    }
   ],
   "source": [
    "import numpy as np\n",
    "\n",
    "# Create a 4x4 array with random numbers between 0 and 1\n",
    "arr = np.random.rand(4, 4)\n",
    "\n",
    "print(\"4x4 Random Array:\\n\", arr)\n",
    "print(\"Shape:\", arr.shape)\n",
    "print(\"Data type:\", arr.dtype)\n"
   ]
  },
  {
   "cell_type": "markdown",
   "id": "fd057c4d-7b27-411e-920a-f6bfc66233c0",
   "metadata": {},
   "source": [
    "# Ques 3 Generate a NumPy array of 10 evenly spaced values between 1 and 100."
   ]
  },
  {
   "cell_type": "code",
   "execution_count": 8,
   "id": "91157417-2a36-424e-9f5e-e0d2496c3f49",
   "metadata": {},
   "outputs": [
    {
     "name": "stdout",
     "output_type": "stream",
     "text": [
      "Evenly spaced array: [  1.  12.  23.  34.  45.  56.  67.  78.  89. 100.]\n",
      "Shape: (10,)\n",
      "Data type: float64\n"
     ]
    }
   ],
   "source": [
    "import numpy as np\n",
    "\n",
    "# Generate 10 evenly spaced values between 1 and 100\n",
    "arr = np.linspace(1, 100, 10)\n",
    "\n",
    "print(\"Evenly spaced array:\", arr)\n",
    "print(\"Shape:\", arr.shape)\n",
    "print(\"Data type:\", arr.dtype)\n"
   ]
  },
  {
   "cell_type": "markdown",
   "id": "b2257f84-6bc1-4e39-a3f9-6f95270c4309",
   "metadata": {},
   "source": [
    "# Ques 4 Perform addition, subtraction, and multiplication on two NumPy arrays."
   ]
  },
  {
   "cell_type": "code",
   "execution_count": 9,
   "id": "11cd662d-a7cb-428f-82d4-a2987802b8ee",
   "metadata": {},
   "outputs": [
    {
     "name": "stdout",
     "output_type": "stream",
     "text": [
      "Array 1: [10 20 30 40]\n",
      "Array 2: [1 2 3 4]\n",
      "Addition: [11 22 33 44]\n",
      "Subtraction: [ 9 18 27 36]\n",
      "Multiplication: [ 10  40  90 160]\n"
     ]
    }
   ],
   "source": [
    "import numpy as np\n",
    "\n",
    "# Define two arrays\n",
    "arr1 = np.array([10, 20, 30, 40])\n",
    "arr2 = np.array([1, 2, 3, 4])\n",
    "\n",
    "# Perform addition\n",
    "add_result = arr1 + arr2\n",
    "\n",
    "# Perform subtraction\n",
    "sub_result = arr1 - arr2\n",
    "\n",
    "# Perform multiplication\n",
    "mul_result = arr1 * arr2\n",
    "\n",
    "# Print results\n",
    "print(\"Array 1:\", arr1)\n",
    "print(\"Array 2:\", arr2)\n",
    "print(\"Addition:\", add_result)\n",
    "print(\"Subtraction:\", sub_result)\n",
    "print(\"Multiplication:\", mul_result)\n"
   ]
  },
  {
   "cell_type": "markdown",
   "id": "9278ed8d-d7d9-4ccb-940f-bbdb6e842784",
   "metadata": {},
   "source": [
    "# Ques 5 Reshape a 1D NumPy array of 12 elements into a 3x4 matrix."
   ]
  },
  {
   "cell_type": "code",
   "execution_count": 10,
   "id": "62106ca9-743e-401e-a78b-26338b17a1a9",
   "metadata": {},
   "outputs": [
    {
     "name": "stdout",
     "output_type": "stream",
     "text": [
      "Original 1D Array: [ 1  2  3  4  5  6  7  8  9 10 11 12]\n",
      "Reshaped 3x4 Matrix:\n",
      " [[ 1  2  3  4]\n",
      " [ 5  6  7  8]\n",
      " [ 9 10 11 12]]\n",
      "Shape: (3, 4)\n"
     ]
    }
   ],
   "source": [
    "import numpy as np\n",
    "\n",
    "# Create a 1D array with 12 elements\n",
    "arr = np.arange(1, 13)   # [1, 2, 3, ..., 12]\n",
    "\n",
    "# Reshape into 3x4 matrix\n",
    "reshaped_arr = arr.reshape(3, 4)\n",
    "\n",
    "print(\"Original 1D Array:\", arr)\n",
    "print(\"Reshaped 3x4 Matrix:\\n\", reshaped_arr)\n",
    "print(\"Shape:\", reshaped_arr.shape)\n"
   ]
  },
  {
   "cell_type": "markdown",
   "id": "5d859566-cf68-42a4-9f24-2b859f3723da",
   "metadata": {},
   "source": [
    "# Ques 6 Calculate mean, median, and standard deviation of a NumPy array."
   ]
  },
  {
   "cell_type": "code",
   "execution_count": 11,
   "id": "655e4033-b0f4-4f8f-b5bc-dea91793f26a",
   "metadata": {},
   "outputs": [
    {
     "name": "stdout",
     "output_type": "stream",
     "text": [
      "Array: [10 20 30 40 50]\n",
      "Mean: 30.0\n",
      "Median: 30.0\n",
      "Standard Deviation: 14.142135623730951\n"
     ]
    }
   ],
   "source": [
    "import numpy as np\n",
    "\n",
    "# Create a NumPy array\n",
    "arr = np.array([10, 20, 30, 40, 50])\n",
    "\n",
    "# Calculate statistics\n",
    "mean_val = np.mean(arr)\n",
    "median_val = np.median(arr)\n",
    "std_dev = np.std(arr)\n",
    "\n",
    "# Print results\n",
    "print(\"Array:\", arr)\n",
    "print(\"Mean:\", mean_val)\n",
    "print(\"Median:\", median_val)\n",
    "print(\"Standard Deviation:\", std_dev)\n"
   ]
  },
  {
   "cell_type": "markdown",
   "id": "a8fd57eb-7bf9-46cc-9a47-9170727b052f",
   "metadata": {},
   "source": [
    "# Ques 7 Use slicing to extract a subarray from a larger 2D NumPy array."
   ]
  },
  {
   "cell_type": "code",
   "execution_count": 12,
   "id": "8859e83a-589a-4ba7-b66f-266629caac69",
   "metadata": {},
   "outputs": [
    {
     "name": "stdout",
     "output_type": "stream",
     "text": [
      "Original 4x5 Array:\n",
      " [[ 1  2  3  4  5]\n",
      " [ 6  7  8  9 10]\n",
      " [11 12 13 14 15]\n",
      " [16 17 18 19 20]]\n",
      "\n",
      "Extracted Subarray:\n",
      " [[ 8  9 10]\n",
      " [13 14 15]]\n"
     ]
    }
   ],
   "source": [
    "import numpy as np\n",
    "\n",
    "# Create a 4x5 array\n",
    "arr = np.arange(1, 21).reshape(4, 5)  # numbers 1 to 20\n",
    "\n",
    "print(\"Original 4x5 Array:\\n\", arr)\n",
    "\n",
    "# Extract subarray (rows 1–2, columns 2–4)\n",
    "sub_arr = arr[1:3, 2:5]\n",
    "\n",
    "print(\"\\nExtracted Subarray:\\n\", sub_arr)\n"
   ]
  },
  {
   "cell_type": "markdown",
   "id": "7176e287-dcb5-4efe-849c-281ed10fe9d9",
   "metadata": {},
   "source": [
    "# Ques 8 Save a NumPy array to a .npy file and reload it."
   ]
  },
  {
   "cell_type": "code",
   "execution_count": 13,
   "id": "cc87c0f0-11c6-4281-bd8b-ad4820c36a3c",
   "metadata": {},
   "outputs": [
    {
     "name": "stdout",
     "output_type": "stream",
     "text": [
      "Original Array: [10 20 30 40 50]\n",
      "Reloaded Array: [10 20 30 40 50]\n"
     ]
    }
   ],
   "source": [
    "import numpy as np\n",
    "\n",
    "# Create a NumPy array\n",
    "arr = np.array([10, 20, 30, 40, 50])\n",
    "\n",
    "# Save the array to a .npy file\n",
    "np.save(\"my_array.npy\", arr)\n",
    "\n",
    "# Reload the array from the file\n",
    "loaded_arr = np.load(\"my_array.npy\")\n",
    "\n",
    "print(\"Original Array:\", arr)\n",
    "print(\"Reloaded Array:\", loaded_arr)\n"
   ]
  },
  {
   "cell_type": "markdown",
   "id": "e7cfa395-6e72-46d9-8420-245416144639",
   "metadata": {},
   "source": [
    "# Ques 9 Demonstrate element-wise comparison operations in NumPy."
   ]
  },
  {
   "cell_type": "code",
   "execution_count": 14,
   "id": "cbf4f21c-cf0e-4d80-95c0-2808ce1a8d3f",
   "metadata": {},
   "outputs": [
    {
     "name": "stdout",
     "output_type": "stream",
     "text": [
      "Array 1: [10 20 30 40]\n",
      "Array 2: [15 20 25 40]\n",
      "\n",
      "Equal (==): [False  True False  True]\n",
      "Not Equal (!=): [ True False  True False]\n",
      "Greater Than (>): [False False  True False]\n",
      "Less Than (<): [ True False False False]\n",
      "Greater or Equal (>=): [False  True  True  True]\n",
      "Less or Equal (<=): [ True  True False  True]\n"
     ]
    }
   ],
   "source": [
    "import numpy as np\n",
    "\n",
    "# Define two arrays\n",
    "arr1 = np.array([10, 20, 30, 40])\n",
    "arr2 = np.array([15, 20, 25, 40])\n",
    "\n",
    "print(\"Array 1:\", arr1)\n",
    "print(\"Array 2:\", arr2)\n",
    "\n",
    "# Element-wise comparisons\n",
    "print(\"\\nEqual (==):\", arr1 == arr2)\n",
    "print(\"Not Equal (!=):\", arr1 != arr2)\n",
    "print(\"Greater Than (>):\", arr1 > arr2)\n",
    "print(\"Less Than (<):\", arr1 < arr2)\n",
    "print(\"Greater or Equal (>=):\", arr1 >= arr2)\n",
    "print(\"Less or Equal (<=):\", arr1 <= arr2)\n"
   ]
  },
  {
   "cell_type": "markdown",
   "id": "1b6d5beb-f4a5-43e7-84c2-0443bdc14e89",
   "metadata": {},
   "source": [
    "# Ques 10 Create an identity matrix using NumPy and display it."
   ]
  },
  {
   "cell_type": "code",
   "execution_count": 15,
   "id": "77cc89a0-08fc-47b5-98d6-14fdc557eb43",
   "metadata": {},
   "outputs": [
    {
     "name": "stdout",
     "output_type": "stream",
     "text": [
      "4x4 Identity Matrix:\n",
      " [[1. 0. 0. 0.]\n",
      " [0. 1. 0. 0.]\n",
      " [0. 0. 1. 0.]\n",
      " [0. 0. 0. 1.]]\n"
     ]
    }
   ],
   "source": [
    "import numpy as np\n",
    "\n",
    "# Create a 4x4 identity matrix\n",
    "identity_matrix = np.eye(4)\n",
    "\n",
    "print(\"4x4 Identity Matrix:\\n\", identity_matrix)\n"
   ]
  }
 ],
 "metadata": {
  "kernelspec": {
   "display_name": "Python 3 (ipykernel)",
   "language": "python",
   "name": "python3"
  },
  "language_info": {
   "codemirror_mode": {
    "name": "ipython",
    "version": 3
   },
   "file_extension": ".py",
   "mimetype": "text/x-python",
   "name": "python",
   "nbconvert_exporter": "python",
   "pygments_lexer": "ipython3",
   "version": "3.13.7"
  }
 },
 "nbformat": 4,
 "nbformat_minor": 5
}
